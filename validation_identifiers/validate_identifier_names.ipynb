{
 "cells": [
  {
   "cell_type": "markdown",
   "id": "4e42905e",
   "metadata": {},
   "source": [
    "###  Create a system that evaluates if identifiers of `indication_paths.json` have the correct `name` . \n",
    "Create a simple script that queries each ID against some authoritative resource(s)"
   ]
  },
  {
   "cell_type": "code",
   "execution_count": 2,
   "id": "7b8db20e",
   "metadata": {},
   "outputs": [],
   "source": [
    "#Import libraries\n",
    "import requests\n",
    "import yaml\n",
    "import time\n",
    "import tqdm\n",
    "import pandas as pd\n",
    "import csv\n",
    "import os.path\n",
    "from api_access import * #Apis of authority resources\n",
    "from collections import Counter"
   ]
  },
  {
   "cell_type": "markdown",
   "id": "4ced8163",
   "metadata": {},
   "source": [
    "### Input nodes"
   ]
  },
  {
   "cell_type": "code",
   "execution_count": 14,
   "id": "1a99cad2",
   "metadata": {},
   "outputs": [
    {
     "name": "stderr",
     "output_type": "stream",
     "text": [
      "100%|█████████████████████████████████████████████████████████| 4549/4549 [00:00<00:00, 5592.08it/s]\n"
     ]
    }
   ],
   "source": [
    "identifiers = []\n",
    "prefix_id = []\n",
    "\n",
    "# Open original indication_paths.yml file\n",
    "with open(\"./../indication_paths.yaml\", \"r\") as indication_paths:\n",
    "    paths = yaml.load(indication_paths, Loader=yaml.CBaseLoader)\n",
    "    paths_test = paths\n",
    "\n",
    "\n",
    "    # Loop for each idication in  \n",
    "    for ind in tqdm.tqdm((paths_test)):\n",
    "        #Get nodes of indications\n",
    "        nodes = ind[\"nodes\"]\n",
    "        \n",
    "        for n in nodes:\n",
    "            if n[\"id\"] not in identifiers:\n",
    "                identifiers.append(n[\"id\"])\n",
    "                prefix_id.append(n[\"id\"].split(\":\")[0])"
   ]
  },
  {
   "cell_type": "code",
   "execution_count": 15,
   "id": "274a4a60",
   "metadata": {},
   "outputs": [
    {
     "data": {
      "text/plain": [
       "('Number of unique nodes:', 5225)"
      ]
     },
     "execution_count": 15,
     "metadata": {},
     "output_type": "execute_result"
    }
   ],
   "source": [
    "\"Number of unique nodes:\",len((identifiers))"
   ]
  },
  {
   "cell_type": "markdown",
   "id": "db72d2a1",
   "metadata": {},
   "source": [
    "Count nodes by prefix (all ids not as set)"
   ]
  },
  {
   "cell_type": "code",
   "execution_count": 4,
   "id": "6f6fadea",
   "metadata": {},
   "outputs": [
    {
     "data": {
      "text/plain": [
       "Counter({'MESH': 2514,\n",
       "         'UniProt': 803,\n",
       "         'GO': 837,\n",
       "         'REACT': 91,\n",
       "         'UBERON': 137,\n",
       "         'NCBITaxon': 166,\n",
       "         'TIGR': 1,\n",
       "         'InterPro': 117,\n",
       "         'HP': 262,\n",
       "         'CL': 40,\n",
       "         'CHEBI': 129,\n",
       "         'DB': 107,\n",
       "         'PR': 5,\n",
       "         'Pfam': 16})"
      ]
     },
     "execution_count": 4,
     "metadata": {},
     "output_type": "execute_result"
    }
   ],
   "source": [
    "Counter(prefix_id)"
   ]
  },
  {
   "cell_type": "code",
   "execution_count": null,
   "id": "e0cc3d68",
   "metadata": {},
   "outputs": [],
   "source": []
  },
  {
   "cell_type": "markdown",
   "id": "9e718447",
   "metadata": {},
   "source": [
    "### As reference, list of accessed resources: \n",
    "\n",
    " 'MESH': https://id.nlm.nih.gov/mesh/ <br>\n",
    " 'UniProt': https://www.ebi.ac.uk/proteins/api/ <br>\n",
    " 'GO': http://api.geneontology.org/api/ <br>\n",
    " 'REACT': https://nodenormalization-sri.renci.org/ <br>\n",
    " 'UBERON': https://nodenormalization-sri.renci.org/ <br>\n",
    " 'NCBITaxon': https://nodenormalization-sri.renci.org/ <br>\n",
    " 'TIGR': *<br>\n",
    " 'InterPro': https://www.ebi.ac.uk/interpro/api/protein/reviewed/entry/interpro/<br>\n",
    " 'HP': https://nodenormalization-sri.renci.org/<br>\n",
    " 'CL': https://nodenormalization-sri.renci.org/<br>\n",
    " 'CHEBI': http://mychem.info/v1/chem/<br>\n",
    " 'DB': https://go.drugbank.com/releases/latest#open-data ⬅️ Download data <br>\n",
    " 'PR': https://nodenormalization-sri.renci.org/<br>\n",
    " 'Pfam': https://www.ebi.ac.uk/interpro/api/entry/pfam/"
   ]
  },
  {
   "cell_type": "code",
   "execution_count": null,
   "id": "c278aa53",
   "metadata": {},
   "outputs": [],
   "source": []
  },
  {
   "cell_type": "markdown",
   "id": "7d6baa04",
   "metadata": {},
   "source": [
    "### Iterate over each node and send request to corresponding authoritative API resource\n",
    "Estimate time of runing 5 hours. <br>\n",
    "Run `02_validate_identifier_names.py` python script"
   ]
  },
  {
   "cell_type": "code",
   "execution_count": null,
   "id": "89c75bc1",
   "metadata": {
    "scrolled": true
   },
   "outputs": [],
   "source": [
    "#Define lists\n",
    "\n",
    "#updated indications\n",
    "indication_paths_updated = []\n",
    "\n",
    "#dictionary preferred names\n",
    "pref_name_dict = dict()\n",
    "\n",
    "output_file = \"preferred_node_names.csv\"\n",
    "error_identifiers_file = \"error_ids.csv\"\n",
    "\n",
    "\n",
    "file_exists = os.path.isfile(output_file)\n",
    "error_file_exists = os.path.isfile(error_identifiers_file)\n",
    "\n",
    "with open(output_file, 'a', newline='') as outputfile:\n",
    "    with open(error_identifiers_file, 'a', newline='') as error_file:\n",
    "        fieldnames = ['graph_id', 'node_id', 'original_node_name', \"preferred_node_name\"]\n",
    "        writer = csv.DictWriter(outputfile, fieldnames=fieldnames)\n",
    "        if not file_exists:\n",
    "            writer.writeheader()\n",
    "            \n",
    "        error_fieldnames = ['graph_id', 'node_id']\n",
    "        error_writer = csv.DictWriter(error_file, fieldnames=error_fieldnames)\n",
    "        if not error_file_exists:\n",
    "            error_writer.writeheader()\n",
    "        \n",
    "\n",
    "        # Open original indication_paths.yml file\n",
    "        with open(\"./../indication_paths.yaml\", \"r\") as indication_paths:\n",
    "            paths = yaml.load(indication_paths, Loader=yaml.CBaseLoader)\n",
    "            paths_test = paths\n",
    "\n",
    "\n",
    "            # Loop for each idication in  \n",
    "            for ind in tqdm.tqdm((paths_test)):\n",
    "                #Get nodes of indications\n",
    "                nodes = ind[\"nodes\"]\n",
    "                \n",
    "\n",
    "                #call access_api function depending on identifier prefix \n",
    "                for n in nodes:\n",
    "                    #time.sleep(0.5)\n",
    "                    \n",
    "                    #if identifier already saved in output file. Keep it and continue. \n",
    "                    saved_results = open(output_file, 'r').read()\n",
    "                    if n[\"id\"] in saved_results: \n",
    "                        print(\"Already_saved: \", n[\"id\"])\n",
    "                    \n",
    "                    #if identifier is not saved in file\n",
    "                    else:\n",
    "                        prefix = n[\"id\"].split(\":\")[0] #Get prefix\n",
    "\n",
    "                        try:\n",
    "                            #if node was already evaluated and saved in dictionary. \n",
    "                            if n[\"id\"] in pref_name_dict: \n",
    "                                print(\"Already_saved: \", n[\"id\"])\n",
    "                                \n",
    "                            #if node identifier hasnt been evaluated:\n",
    "                            else: \n",
    "                                if prefix == \"MESH\": \n",
    "                                    #send request\n",
    "                                    preferred_name = access_MESH_API(n[\"id\"])\n",
    "\n",
    "                                    #to dict\n",
    "                                    pref_name_dict[n[\"id\"]] = preferred_name\n",
    "\n",
    "                                    ##write outputfile\n",
    "                                    write_output_file(writer,ind[\"graph\"][\"_id\"],n[\"id\"], n[\"name\"], preferred_name)\n",
    "\n",
    "\n",
    "                                if prefix == \"UniProt\":\n",
    "                                    #send request\n",
    "                                    preferred_name = access_UniProt_API(n[\"id\"])\n",
    "\n",
    "                                    #to dict\n",
    "                                    pref_name_dict[n[\"id\"]] = preferred_name\n",
    "\n",
    "                                    ##write outputfile\n",
    "                                    write_output_file(writer,ind[\"graph\"][\"_id\"],n[\"id\"], n[\"name\"], preferred_name)\n",
    "\n",
    "\n",
    "                                if prefix == \"GO\":\n",
    "                                    #send request\n",
    "                                    preferred_name = access_GO_API(n[\"id\"])\n",
    "\n",
    "                                    #to dict\n",
    "                                    pref_name_dict[n[\"id\"]] = preferred_name\n",
    "\n",
    "                                    ##write outputfile\n",
    "                                    write_output_file(writer,ind[\"graph\"][\"_id\"],n[\"id\"], n[\"name\"], preferred_name)\n",
    "\n",
    "                                if prefix == \"CHEBI\":  \n",
    "                                    #send request\n",
    "                                    preferred_name = access_mychem_API(n[\"id\"])\n",
    "\n",
    "                                    #to dict\n",
    "                                    pref_name_dict[n[\"id\"]] = preferred_name\n",
    "\n",
    "                                    ##write outputfile\n",
    "                                    write_output_file(writer,ind[\"graph\"][\"_id\"],n[\"id\"], n[\"name\"], preferred_name)\n",
    "\n",
    "                                list_prefix_for_node_normalizer = [\"MESH\",\"HP\",\"NCBITaxon\", \"UBERON\",\"REACT\", \"PR\"]\n",
    "                                if prefix in list_prefix_for_node_normalizer: \n",
    "                                    #send request\n",
    "                                    preferred_name = access_nodenormalizer_API(n[\"id\"])\n",
    "\n",
    "                                    #to dict\n",
    "                                    pref_name_dict[n[\"id\"]] = preferred_name\n",
    "\n",
    "                                    ###write outputfile\n",
    "                                    write_output_file(writer,ind[\"graph\"][\"_id\"],n[\"id\"], n[\"name\"], preferred_name)\n",
    "                                \n",
    "                                if prefix == \"InterPro\":  \n",
    "                                    #send request\n",
    "                                    preferred_name = access_interpro_API(n[\"id\"])\n",
    "\n",
    "                                    #to dict\n",
    "                                    pref_name_dict[n[\"id\"]] = preferred_name\n",
    "\n",
    "                                    ##write outputfile\n",
    "                                    write_output_file(writer,ind[\"graph\"][\"_id\"],n[\"id\"], n[\"name\"], preferred_name)\n",
    "                                \n",
    "                                if prefix == \"Pfam\":  \n",
    "                                    #send request\n",
    "                                    preferred_name = access_pfam_API(n[\"id\"])\n",
    "\n",
    "                                    #to dict\n",
    "                                    pref_name_dict[n[\"id\"]] = preferred_name\n",
    "\n",
    "                                    ##write outputfile\n",
    "                                    write_output_file(writer,ind[\"graph\"][\"_id\"],n[\"id\"], n[\"name\"], preferred_name)\n",
    "\n",
    "\n",
    "                            print(\"Successful response: \", n[\"id\"] )\n",
    "\n",
    "                        #Error\n",
    "                        except: \n",
    "                            error_saved_results = open(error_identifiers_file, 'r').read()\n",
    "                            if n[\"id\"] in error_saved_results: \n",
    "                                print(\"Already_saved as error: \", n[\"id\"])\n",
    "                                \n",
    "                            else:\n",
    "                                error_writer.writerow({\"graph_id\": ind[\"graph\"][\"_id\"], \"node_id\":n[\"id\"]})\n",
    "                                print(\"Error requesting: \", n[\"id\"])\n"
   ]
  },
  {
   "cell_type": "code",
   "execution_count": null,
   "id": "a04d66d2",
   "metadata": {},
   "outputs": [],
   "source": []
  },
  {
   "cell_type": "code",
   "execution_count": null,
   "id": "856524c4",
   "metadata": {},
   "outputs": [],
   "source": []
  },
  {
   "cell_type": "markdown",
   "id": "1a7b9618",
   "metadata": {},
   "source": [
    "### Integrate DB data\n",
    "Resource: https://go.drugbank.com/releases/latest#open-data"
   ]
  },
  {
   "cell_type": "code",
   "execution_count": null,
   "id": "2b66332f",
   "metadata": {},
   "outputs": [],
   "source": [
    "#open drugBank file \n",
    "\n",
    "#Released on: 2022-01-03\n",
    "db_data = pd.read_csv(\"drugbank vocabulary.csv\")\n",
    "db_data.head()"
   ]
  },
  {
   "cell_type": "code",
   "execution_count": null,
   "id": "bcefe6a3",
   "metadata": {
    "scrolled": true
   },
   "outputs": [],
   "source": [
    "output_file = \"preferred_node_names.csv\"\n",
    "error_identifiers_file = \"error_ids.csv\"\n",
    "\n",
    "file_exists = os.path.isfile(output_file)\n",
    "error_file_exists = os.path.isfile(error_identifiers_file)\n",
    "\n",
    "nodes_evaluated =[]\n",
    "with open(output_file, 'a', newline='') as outputfile:\n",
    "    with open(error_identifiers_file, 'a', newline='') as error_file:\n",
    "        fieldnames = ['graph_id', 'node_id', 'original_node_name', \"preferred_node_name\"]\n",
    "        writer = csv.DictWriter(outputfile, fieldnames=fieldnames)\n",
    "        if not file_exists:\n",
    "            writer.writeheader()\n",
    "            \n",
    "        error_fieldnames = ['graph_id', 'node_id']\n",
    "        error_writer = csv.DictWriter(error_file, fieldnames=error_fieldnames)\n",
    "        if not error_file_exists:\n",
    "            error_writer.writeheader()\n",
    "\n",
    "    with open(\"./../indication_paths.yaml\", \"r\") as indication_paths:\n",
    "            paths = yaml.load(indication_paths, Loader=yaml.CBaseLoader)\n",
    "            paths_test = paths\n",
    "\n",
    "            # Loop for each idication in  \n",
    "            for ind in tqdm.tqdm((paths_test)):\n",
    "\n",
    "                #Get nodes of indications\n",
    "                nodes = ind[\"nodes\"]\n",
    "                nodes = list(filter(lambda node: node[\"id\"].startswith(\"DB:\"), nodes))\n",
    "                \n",
    "                for node in nodes:\n",
    "                    saved_results = open(output_file, 'r').read()\n",
    "                    if node[\"id\"] in saved_results: \n",
    "                        print(\"Already_saved: \", node[\"id\"])\n",
    "                   \n",
    "                    else:\n",
    "                        if node[\"id\"] not in nodes_evaluated:\n",
    "                            node_db = node['id'].split(\"DB:\")[1]\n",
    "\n",
    "                            if (db_data[\"DrugBank ID\"] == node_db).any():\n",
    "                                preferred_name = db_data[db_data[\"DrugBank ID\"] == node_db][\"Common name\"].iloc[0]\n",
    "                                nodes_evaluated.append(node['id'])\n",
    "\n",
    "                                if preferred_name:\n",
    "                                    ##write outputfile\n",
    "                                        write_output_file(writer,ind[\"graph\"][\"_id\"],node[\"id\"], node[\"name\"], preferred_name)\n",
    "\n",
    "                                else:\n",
    "                                    error_saved_results = open(error_identifiers_file, 'r').read()\n",
    "                                    if n[\"id\"] in error_saved_results: \n",
    "                                        print(\"Already_saved as error: \", n[\"id\"])\n",
    "\n",
    "                                    else:\n",
    "                                        error_writer.writerow({\"graph_id\": ind[\"graph\"][\"_id\"], \"node_id\":node[\"id\"]})\n",
    "                                        print(\"Error requesting: \", n[\"id\"])\n",
    "\n"
   ]
  },
  {
   "cell_type": "code",
   "execution_count": null,
   "id": "751e810c",
   "metadata": {},
   "outputs": [],
   "source": []
  },
  {
   "cell_type": "markdown",
   "id": "31ad8be6",
   "metadata": {},
   "source": [
    "### Check results "
   ]
  },
  {
   "cell_type": "code",
   "execution_count": 9,
   "id": "46075067",
   "metadata": {
    "scrolled": true
   },
   "outputs": [
    {
     "data": {
      "text/html": [
       "<div>\n",
       "<style scoped>\n",
       "    .dataframe tbody tr th:only-of-type {\n",
       "        vertical-align: middle;\n",
       "    }\n",
       "\n",
       "    .dataframe tbody tr th {\n",
       "        vertical-align: top;\n",
       "    }\n",
       "\n",
       "    .dataframe thead th {\n",
       "        text-align: right;\n",
       "    }\n",
       "</style>\n",
       "<table border=\"1\" class=\"dataframe\">\n",
       "  <thead>\n",
       "    <tr style=\"text-align: right;\">\n",
       "      <th></th>\n",
       "      <th>graph_id</th>\n",
       "      <th>node_id</th>\n",
       "      <th>original_node_name</th>\n",
       "      <th>preferred_node_name</th>\n",
       "    </tr>\n",
       "  </thead>\n",
       "  <tbody>\n",
       "    <tr>\n",
       "      <th>0</th>\n",
       "      <td>DB00619_MESH_D015464_1</td>\n",
       "      <td>MESH:D000068877</td>\n",
       "      <td>imatinib</td>\n",
       "      <td>Imatinib Mesylate</td>\n",
       "    </tr>\n",
       "    <tr>\n",
       "      <th>1</th>\n",
       "      <td>DB00619_MESH_D015464_1</td>\n",
       "      <td>UniProt:P00519</td>\n",
       "      <td>BCR/ABL</td>\n",
       "      <td>Tyrosine-protein kinase ABL1</td>\n",
       "    </tr>\n",
       "    <tr>\n",
       "      <th>2</th>\n",
       "      <td>DB00619_MESH_D015464_1</td>\n",
       "      <td>MESH:D015464</td>\n",
       "      <td>CML (ph+)</td>\n",
       "      <td>Leukemia, Myelogenous, Chronic, BCR-ABL Positive</td>\n",
       "    </tr>\n",
       "    <tr>\n",
       "      <th>3</th>\n",
       "      <td>DB00619_MESH_D034721_1</td>\n",
       "      <td>UniProt:P10721</td>\n",
       "      <td>c-Kit</td>\n",
       "      <td>Mast/stem cell growth factor receptor Kit</td>\n",
       "    </tr>\n",
       "    <tr>\n",
       "      <th>4</th>\n",
       "      <td>DB00619_MESH_D034721_1</td>\n",
       "      <td>UniProt:P16234</td>\n",
       "      <td>Pdgf</td>\n",
       "      <td>Platelet-derived growth factor receptor alpha</td>\n",
       "    </tr>\n",
       "    <tr>\n",
       "      <th>...</th>\n",
       "      <td>...</td>\n",
       "      <td>...</td>\n",
       "      <td>...</td>\n",
       "      <td>...</td>\n",
       "    </tr>\n",
       "    <tr>\n",
       "      <th>5141</th>\n",
       "      <td>DB04855_MESH_D001281_1</td>\n",
       "      <td>MESH:C118667</td>\n",
       "      <td>dronedarone</td>\n",
       "      <td>[OBSOLETE] dronedarone</td>\n",
       "    </tr>\n",
       "    <tr>\n",
       "      <th>5142</th>\n",
       "      <td>DB12243_MESH_D000690_1</td>\n",
       "      <td>MESH:C005435</td>\n",
       "      <td>edaravone</td>\n",
       "      <td>EDARAVONE</td>\n",
       "    </tr>\n",
       "    <tr>\n",
       "      <th>5143</th>\n",
       "      <td>DB00512_MESH_D004697_1</td>\n",
       "      <td>CHEBI:16576</td>\n",
       "      <td>D-alanyl-D-alanine</td>\n",
       "      <td>D-Alanyl-D-alanine</td>\n",
       "    </tr>\n",
       "    <tr>\n",
       "      <th>5144</th>\n",
       "      <td>DB06603_MESH_D016410_1</td>\n",
       "      <td>MESH:C496932</td>\n",
       "      <td>Panobinostat</td>\n",
       "      <td>Panobinostat</td>\n",
       "    </tr>\n",
       "    <tr>\n",
       "      <th>5145</th>\n",
       "      <td>DB00535_MESH_D013203_1</td>\n",
       "      <td>MESH:C056814</td>\n",
       "      <td>Cefdinir</td>\n",
       "      <td>Cefdinir</td>\n",
       "    </tr>\n",
       "  </tbody>\n",
       "</table>\n",
       "<p>5146 rows × 4 columns</p>\n",
       "</div>"
      ],
      "text/plain": [
       "                    graph_id          node_id  original_node_name  \\\n",
       "0     DB00619_MESH_D015464_1  MESH:D000068877            imatinib   \n",
       "1     DB00619_MESH_D015464_1   UniProt:P00519             BCR/ABL   \n",
       "2     DB00619_MESH_D015464_1     MESH:D015464           CML (ph+)   \n",
       "3     DB00619_MESH_D034721_1   UniProt:P10721               c-Kit   \n",
       "4     DB00619_MESH_D034721_1   UniProt:P16234                Pdgf   \n",
       "...                      ...              ...                 ...   \n",
       "5141  DB04855_MESH_D001281_1     MESH:C118667         dronedarone   \n",
       "5142  DB12243_MESH_D000690_1     MESH:C005435           edaravone   \n",
       "5143  DB00512_MESH_D004697_1      CHEBI:16576  D-alanyl-D-alanine   \n",
       "5144  DB06603_MESH_D016410_1     MESH:C496932        Panobinostat   \n",
       "5145  DB00535_MESH_D013203_1     MESH:C056814            Cefdinir   \n",
       "\n",
       "                                   preferred_node_name  \n",
       "0                                    Imatinib Mesylate  \n",
       "1                         Tyrosine-protein kinase ABL1  \n",
       "2     Leukemia, Myelogenous, Chronic, BCR-ABL Positive  \n",
       "3            Mast/stem cell growth factor receptor Kit  \n",
       "4        Platelet-derived growth factor receptor alpha  \n",
       "...                                                ...  \n",
       "5141                            [OBSOLETE] dronedarone  \n",
       "5142                                         EDARAVONE  \n",
       "5143                                D-Alanyl-D-alanine  \n",
       "5144                                      Panobinostat  \n",
       "5145                                          Cefdinir  \n",
       "\n",
       "[5146 rows x 4 columns]"
      ]
     },
     "execution_count": 9,
     "metadata": {},
     "output_type": "execute_result"
    }
   ],
   "source": [
    "#preferred names \n",
    "pref_nodes = pd.read_csv(\"preferred_node_names.csv\")\n",
    "pref_nodes"
   ]
  },
  {
   "cell_type": "code",
   "execution_count": 10,
   "id": "ea348e9d",
   "metadata": {
    "scrolled": true
   },
   "outputs": [
    {
     "data": {
      "text/html": [
       "<div>\n",
       "<style scoped>\n",
       "    .dataframe tbody tr th:only-of-type {\n",
       "        vertical-align: middle;\n",
       "    }\n",
       "\n",
       "    .dataframe tbody tr th {\n",
       "        vertical-align: top;\n",
       "    }\n",
       "\n",
       "    .dataframe thead th {\n",
       "        text-align: right;\n",
       "    }\n",
       "</style>\n",
       "<table border=\"1\" class=\"dataframe\">\n",
       "  <thead>\n",
       "    <tr style=\"text-align: right;\">\n",
       "      <th></th>\n",
       "      <th>graph_id</th>\n",
       "      <th>node_id</th>\n",
       "    </tr>\n",
       "  </thead>\n",
       "  <tbody>\n",
       "    <tr>\n",
       "      <th>0</th>\n",
       "      <td>DB01601_MESH_D015658_1</td>\n",
       "      <td>UniProt:Q72874</td>\n",
       "    </tr>\n",
       "    <tr>\n",
       "      <th>1</th>\n",
       "      <td>DB00182_MESH_D001289_3</td>\n",
       "      <td>UniProt:Q99870</td>\n",
       "    </tr>\n",
       "    <tr>\n",
       "      <th>2</th>\n",
       "      <td>DB00495_MESH_D015658_1</td>\n",
       "      <td>UniProt:Q72547</td>\n",
       "    </tr>\n",
       "    <tr>\n",
       "      <th>3</th>\n",
       "      <td>DB00495_MESH_D015658_2</td>\n",
       "      <td>UniProt:Q72547</td>\n",
       "    </tr>\n",
       "    <tr>\n",
       "      <th>4</th>\n",
       "      <td>DB00758_MESH_D054058_1</td>\n",
       "      <td>PR:000028445</td>\n",
       "    </tr>\n",
       "    <tr>\n",
       "      <th>...</th>\n",
       "      <td>...</td>\n",
       "      <td>...</td>\n",
       "    </tr>\n",
       "    <tr>\n",
       "      <th>223</th>\n",
       "      <td>DB01059_MESH_D004756_1</td>\n",
       "      <td>UniProt:A0A156J405</td>\n",
       "    </tr>\n",
       "    <tr>\n",
       "      <th>224</th>\n",
       "      <td>DB01017_MESH_D000196_1</td>\n",
       "      <td>UniProt:S2ZP52</td>\n",
       "    </tr>\n",
       "    <tr>\n",
       "      <th>225</th>\n",
       "      <td>DB01017_MESH_D000196_1</td>\n",
       "      <td>UniProt:S3ABF8</td>\n",
       "    </tr>\n",
       "    <tr>\n",
       "      <th>226</th>\n",
       "      <td>DB02703_MESH_D004756_1</td>\n",
       "      <td>UniProt:V5AL63</td>\n",
       "    </tr>\n",
       "    <tr>\n",
       "      <th>227</th>\n",
       "      <td>DB02703_MESH_D016868_1</td>\n",
       "      <td>UniProt:A0A8A6J2U1</td>\n",
       "    </tr>\n",
       "  </tbody>\n",
       "</table>\n",
       "<p>228 rows × 2 columns</p>\n",
       "</div>"
      ],
      "text/plain": [
       "                   graph_id             node_id\n",
       "0    DB01601_MESH_D015658_1      UniProt:Q72874\n",
       "1    DB00182_MESH_D001289_3      UniProt:Q99870\n",
       "2    DB00495_MESH_D015658_1      UniProt:Q72547\n",
       "3    DB00495_MESH_D015658_2      UniProt:Q72547\n",
       "4    DB00758_MESH_D054058_1        PR:000028445\n",
       "..                      ...                 ...\n",
       "223  DB01059_MESH_D004756_1  UniProt:A0A156J405\n",
       "224  DB01017_MESH_D000196_1      UniProt:S2ZP52\n",
       "225  DB01017_MESH_D000196_1      UniProt:S3ABF8\n",
       "226  DB02703_MESH_D004756_1      UniProt:V5AL63\n",
       "227  DB02703_MESH_D016868_1  UniProt:A0A8A6J2U1\n",
       "\n",
       "[228 rows x 2 columns]"
      ]
     },
     "execution_count": 10,
     "metadata": {},
     "output_type": "execute_result"
    }
   ],
   "source": [
    "#error file \n",
    "request_errors = pd.read_csv(\"error_ids.csv\")\n",
    "request_errors"
   ]
  },
  {
   "cell_type": "code",
   "execution_count": 11,
   "id": "a33a0b84",
   "metadata": {},
   "outputs": [
    {
     "data": {
      "text/plain": [
       "68"
      ]
     },
     "execution_count": 11,
     "metadata": {},
     "output_type": "execute_result"
    }
   ],
   "source": [
    "#only set of ids\n",
    "len(set(request_errors[\"node_id\"]))"
   ]
  },
  {
   "cell_type": "code",
   "execution_count": 12,
   "id": "16376aff",
   "metadata": {},
   "outputs": [
    {
     "data": {
      "text/plain": [
       "11"
      ]
     },
     "execution_count": 12,
     "metadata": {},
     "output_type": "execute_result"
    }
   ],
   "source": [
    "#Total number of unique identifiers - evaluated\n",
    "5225 - (5146 +68)"
   ]
  },
  {
   "cell_type": "markdown",
   "id": "bd83a753",
   "metadata": {},
   "source": [
    "There are 11 identifiers that were not saved in error or preferred name ?"
   ]
  },
  {
   "cell_type": "code",
   "execution_count": 16,
   "id": "672a9641",
   "metadata": {},
   "outputs": [],
   "source": [
    "identifiers = set(identifiers)\n",
    "error_pref_nodes = (set(pref_nodes[\"node_id\"]) | set(request_errors[\"node_id\"]) )"
   ]
  },
  {
   "cell_type": "code",
   "execution_count": 17,
   "id": "e1c92446",
   "metadata": {
    "scrolled": true
   },
   "outputs": [
    {
     "data": {
      "text/plain": [
       "{'DB:D015378',\n",
       " 'DB:DBMET01698',\n",
       " 'DB:DBMET02573',\n",
       " 'DB:DBMET03189',\n",
       " 'DB:DBSALT001045',\n",
       " 'DB:DBSALT001065',\n",
       " 'GO:005507',\n",
       " 'NCBITaxon:139',\n",
       " 'NCBITaxon:5519',\n",
       " 'TIGR:02074',\n",
       " 'UniProt:P3535'}"
      ]
     },
     "execution_count": 17,
     "metadata": {},
     "output_type": "execute_result"
    }
   ],
   "source": [
    "(identifiers ^ error_pref_nodes)"
   ]
  },
  {
   "cell_type": "code",
   "execution_count": null,
   "id": "69f94137",
   "metadata": {},
   "outputs": [],
   "source": []
  }
 ],
 "metadata": {
  "kernelspec": {
   "display_name": "Python 3 (ipykernel)",
   "language": "python",
   "name": "python3"
  },
  "language_info": {
   "codemirror_mode": {
    "name": "ipython",
    "version": 3
   },
   "file_extension": ".py",
   "mimetype": "text/x-python",
   "name": "python",
   "nbconvert_exporter": "python",
   "pygments_lexer": "ipython3",
   "version": "3.9.7"
  }
 },
 "nbformat": 4,
 "nbformat_minor": 5
}
